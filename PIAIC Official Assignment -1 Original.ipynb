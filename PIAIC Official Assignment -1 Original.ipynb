{
 "cells": [
  {
   "cell_type": "markdown",
   "metadata": {},
   "source": [
    "# 1.\tCalculate Area of a Circle"
   ]
  },
  {
   "cell_type": "code",
   "execution_count": 2,
   "metadata": {},
   "outputs": [
    {
     "name": "stdout",
     "output_type": "stream",
     "text": [
      "Enter Radius of the circle: 0.5\n",
      "Area of Circle with radius 0.5  is 0.785\n"
     ]
    }
   ],
   "source": [
    "import math\n",
    "r = float(input(\"Enter Radius of the circle: \")) #Taking input and type casting str->int\n",
    "a = (math.pi*math.pow(r,2)) #calculating area\n",
    "print(\"Area of Circle with radius\",r,\" is %.3f\" %a)#Display Area of the circle"
   ]
  },
  {
   "cell_type": "markdown",
   "metadata": {},
   "source": [
    "# 2. Check Number either positive, negative or zero"
   ]
  },
  {
   "cell_type": "code",
   "execution_count": 18,
   "metadata": {},
   "outputs": [
    {
     "name": "stdout",
     "output_type": "stream",
     "text": [
      "Enter your Desired Number: 0\n",
      "Zero Entered\n"
     ]
    }
   ],
   "source": [
    "value = int(input(\"Enter your Desired Number: \")) #Taking input and type casting str-> int\n",
    "if value > 0:\n",
    "    print(\"The Number \",value,\" is positive\")\n",
    "elif value < 0:\n",
    "    print(\"The Number \",value,\" is Negative\")\n",
    "else:\n",
    "    print(\"Zero Entered\")"
   ]
  },
  {
   "cell_type": "markdown",
   "metadata": {},
   "source": [
    "# 3.\tDivisibility Check of two numbers"
   ]
  },
  {
   "cell_type": "code",
   "execution_count": 6,
   "metadata": {},
   "outputs": [
    {
     "name": "stdout",
     "output_type": "stream",
     "text": [
      "Enter Numerator: 4\n",
      "Enter Denominator:3\n",
      "Number  4  is not Completely divisible by 3\n"
     ]
    }
   ],
   "source": [
    "numerator = int(input(\"Enter Numerator: \"))\n",
    "denominator = int(input(\"Enter Denominator:\"))\n",
    "if numerator % denominator == 0:\n",
    "    print(\"Number \",numerator,\" is Completely divisible by\",denominator)\n",
    "else:\n",
    "    print(\"Number \",numerator,\" is not Completely divisible by\",denominator)"
   ]
  },
  {
   "cell_type": "markdown",
   "metadata": {},
   "source": [
    "# 4.\tDays Calculator"
   ]
  },
  {
   "cell_type": "code",
   "execution_count": 9,
   "metadata": {},
   "outputs": [
    {
     "name": "stdout",
     "output_type": "stream",
     "text": [
      "Days Between Two days are:  1\n"
     ]
    }
   ],
   "source": [
    "from datetime import date\n",
    "d1 = date(2008,8,18)\n",
    "d2 = date(2008,8,19)\n",
    "delta = d2 - d1\n",
    "print (\"Days Between Two days are: \",delta.days)"
   ]
  },
  {
   "cell_type": "markdown",
   "metadata": {},
   "source": [
    "# 5.Calculate Volume of a sphere"
   ]
  },
  {
   "cell_type": "code",
   "execution_count": 4,
   "metadata": {},
   "outputs": [
    {
     "name": "stdout",
     "output_type": "stream",
     "text": [
      "Enter Radius of sphere: 1\n",
      "Volume of the Sphere with Radius 1.0  is 4.19\n"
     ]
    }
   ],
   "source": [
    "import math\n",
    "r = float(input(\"Enter Radius of sphere: \"))\n",
    "v = (4/3*(math.pi*math.pow(r,3)))\n",
    "print(\"Volume of the Sphere with Radius\",r,\" is %.2f\"%v)\n"
   ]
  },
  {
   "cell_type": "markdown",
   "metadata": {},
   "source": [
    "# 6.Copy string n times"
   ]
  },
  {
   "cell_type": "code",
   "execution_count": 20,
   "metadata": {},
   "outputs": [
    {
     "name": "stdout",
     "output_type": "stream",
     "text": [
      "Enter String: Ali\n",
      "How many copies of String you need: 3\n",
      "3 Copies of Ali are AliAliAli"
     ]
    }
   ],
   "source": [
    "st = input(\"Enter String: \")\n",
    "count = int(input(\"How many copies of String you need: \"))\n",
    "print(count,\"Copies of\",st,\"are \",end='')\n",
    "while count > 0:\n",
    "    print(st,end='')\n",
    "    count -=1"
   ]
  },
  {
   "cell_type": "markdown",
   "metadata": {},
   "source": [
    "# 7.Check if number is Even or Odd"
   ]
  },
  {
   "cell_type": "code",
   "execution_count": 23,
   "metadata": {},
   "outputs": [
    {
     "name": "stdout",
     "output_type": "stream",
     "text": [
      "Enter Number: 9\n",
      "9 is Odd\n"
     ]
    }
   ],
   "source": [
    "num = int(input(\"Enter Number: \"))\n",
    "if num % 2 == 0:\n",
    "    print(num,\"is Even\")\n",
    "else:\n",
    "    print(num,\"is Odd\")"
   ]
  },
  {
   "cell_type": "markdown",
   "metadata": {},
   "source": [
    "# 8.Vowel Tester"
   ]
  },
  {
   "cell_type": "code",
   "execution_count": 33,
   "metadata": {},
   "outputs": [
    {
     "name": "stdout",
     "output_type": "stream",
     "text": [
      "Enter a character: q\n",
      "Letter  q is not Vowel\n"
     ]
    }
   ],
   "source": [
    "letter = input(\"Enter a character: \")\n",
    "if letter == 'a' or letter == 'A'or letter == 'e' or letter == 'E'or letter == 'i'or letter == 'I'or letter == 'o'or letter == 'O'or letter == 'u'or letter == 'U':\n",
    "    print(\"Letter \",letter,\"is Vowel\")\n",
    "else:\n",
    "    print(\"Letter \",letter,\"is not Vowel\")"
   ]
  },
  {
   "cell_type": "markdown",
   "metadata": {},
   "source": [
    "# 9.Triangle area"
   ]
  },
  {
   "cell_type": "code",
   "execution_count": 7,
   "metadata": {},
   "outputs": [
    {
     "name": "stdout",
     "output_type": "stream",
     "text": [
      "Enter height of the triangle2\n",
      "Enter base of the triangle3\n",
      "The Area of Triangle is 3.0\n"
     ]
    }
   ],
   "source": [
    "h = float(input(\"Enter height of the triangle\"))\n",
    "b = float(input(\"Enter base of the triangle\"))\n",
    "area =1/2*(b*h)\n",
    "print(\"The Area of Triangle is\",area)"
   ]
  },
  {
   "cell_type": "markdown",
   "metadata": {},
   "source": [
    "# 10.\tCalculate Interest"
   ]
  },
  {
   "cell_type": "code",
   "execution_count": 11,
   "metadata": {},
   "outputs": [
    {
     "name": "stdout",
     "output_type": "stream",
     "text": [
      "Please enter principal amount: 10000\n",
      "Please Enter Rate of interest in %: 0.1\n",
      "Enter number of years for investment: 5\n",
      "After 5 years your principal amount 10000 over an interest rate of 0.1 % will be 16105.1\n"
     ]
    }
   ],
   "source": [
    "import math\n",
    "amount = int(input(\"Please enter principal amount: \"))\n",
    "interest = float(input(\"Please Enter Rate of interest in %: \"))\n",
    "year = int(input(\"Enter number of years for investment: \"))\n",
    "A  = amount*(math.pow((1+interest),year))\n",
    "print(\"After\",year,\"years your principal amount\",amount,\"over an interest rate of\",interest,\"%\",\"will be %.1f\"%A)"
   ]
  },
  {
   "cell_type": "markdown",
   "metadata": {},
   "source": [
    "# 11.\tEuclidean distance"
   ]
  },
  {
   "cell_type": "code",
   "execution_count": 4,
   "metadata": {},
   "outputs": [
    {
     "name": "stdout",
     "output_type": "stream",
     "text": [
      "Enter Co-ordinate for x1: 2\n",
      "Enter Co-ordinate for x2: 4\n",
      "Enter Co-ordinate for y1: 4\n",
      "Enter Co-ordinate for y2: 4\n",
      "Distance between points ( 2 , 4 ) and ( 4 , 4 ) is 2.0\n"
     ]
    }
   ],
   "source": [
    "x1 = int(input(\"Enter Co-ordinate for x1: \"))\n",
    "x2 = int(input(\"Enter Co-ordinate for x2: \"))\n",
    "y1 = int(input(\"Enter Co-ordinate for y1: \"))\n",
    "y2 = int(input(\"Enter Co-ordinate for y2: \"))\n",
    "result = ((x2-x1)**2-(y2-y1)**2)**1/2\n",
    "print(\"Distance between points (\",x1,\",\",x2,\") and (\",y1,\",\",y2,\") is\",result)\n"
   ]
  },
  {
   "cell_type": "markdown",
   "metadata": {},
   "source": [
    "# 12.\tFeet to Centimeter Converter"
   ]
  },
  {
   "cell_type": "code",
   "execution_count": 6,
   "metadata": {},
   "outputs": [
    {
     "name": "stdout",
     "output_type": "stream",
     "text": [
      "Enter Height in Feet: 6\n",
      "There are 182.88 Cm in 6 ft\n"
     ]
    }
   ],
   "source": [
    "feet = int(input(\"Enter Height in Feet: \"))\n",
    "cm = (feet*30.48)\n",
    "print(\"There are\",cm,\"Cm in\",feet,\"ft\")"
   ]
  },
  {
   "cell_type": "markdown",
   "metadata": {},
   "source": [
    "# 13. BMI Calculator"
   ]
  },
  {
   "cell_type": "code",
   "execution_count": 15,
   "metadata": {},
   "outputs": [
    {
     "name": "stdout",
     "output_type": "stream",
     "text": [
      "Enter Height in Cm: 180\n",
      "Enter Weight in Kg: 75\n",
      "Your BMI is 23.15\n"
     ]
    }
   ],
   "source": [
    "import math\n",
    "height = float(input(\"Enter Height in Cm: \"))\n",
    "weight = float(input(\"Enter Weight in Kg: \"))\n",
    "height = (math.pow(height,2))/(math.pow(100,2))\n",
    "bmi = weight/height\n",
    "print(\"Your BMI is %.2f\"%bmi)"
   ]
  },
  {
   "cell_type": "markdown",
   "metadata": {},
   "source": [
    "# 14. Sum of n Positive Integers"
   ]
  },
  {
   "cell_type": "code",
   "execution_count": 12,
   "metadata": {},
   "outputs": [
    {
     "name": "stdout",
     "output_type": "stream",
     "text": [
      "Enter value of n: 6\n",
      "Sum of n Positive integers till 6 is 21\n"
     ]
    }
   ],
   "source": [
    "value = int(input(\"Enter value of n: \"))\n",
    "n = value\n",
    "res = 0\n",
    "while value != 0:\n",
    "        res += value\n",
    "        value -=1\n",
    "print(\"Sum of n Positive integers till\",n,\"is\",res)\n",
    "    \n"
   ]
  },
  {
   "cell_type": "markdown",
   "metadata": {},
   "source": [
    "# 15. Digits Sum of a Number"
   ]
  },
  {
   "cell_type": "code",
   "execution_count": 3,
   "metadata": {},
   "outputs": [
    {
     "name": "stdout",
     "output_type": "stream",
     "text": [
      "Enter a number:15\n",
      "6\n"
     ]
    }
   ],
   "source": [
    "value = int(input(\"Enter a number:\"))\n",
    "sum = 0\n",
    "n = 0\n",
    "while value > 0:\n",
    "    n = value % 10\n",
    "    sum = sum + n\n",
    "    value = value // 10\n",
    "print(sum)\n",
    "    \n",
    "    "
   ]
  },
  {
   "cell_type": "markdown",
   "metadata": {},
   "source": [
    "# 16. Decimal to Binary Converter"
   ]
  },
  {
   "cell_type": "code",
   "execution_count": 27,
   "metadata": {},
   "outputs": [
    {
     "name": "stdout",
     "output_type": "stream",
     "text": [
      "Enter Decimal value: 32\n",
      "100000"
     ]
    }
   ],
   "source": [
    "# Decimal to binary\n",
    "check = True\n",
    "l1=[]\n",
    "value = int(input(\"Enter Decimal value: \"))\n",
    "while check == True:\n",
    "    if value < 1:\n",
    "        check == False\n",
    "        break\n",
    "    else:\n",
    "        res = value %2\n",
    "        value = value // 2\n",
    "        l1.append(res)\n",
    "l2=sorted(l1,reverse = True)\n",
    "for x in l2:\n",
    "    print(x,end=\"\")\n",
    "       \n",
    "        "
   ]
  },
  {
   "cell_type": "markdown",
   "metadata": {},
   "source": [
    "# 17. Binary to Decimal Converter"
   ]
  },
  {
   "cell_type": "code",
   "execution_count": 29,
   "metadata": {},
   "outputs": [
    {
     "name": "stdout",
     "output_type": "stream",
     "text": [
      "enter a number: 100000\n"
     ]
    },
    {
     "data": {
      "text/plain": [
       "32"
      ]
     },
     "execution_count": 29,
     "metadata": {},
     "output_type": "execute_result"
    }
   ],
   "source": [
    "binary = input('enter a number: ')\n",
    "int(binary, 2)"
   ]
  },
  {
   "cell_type": "code",
   "execution_count": 30,
   "metadata": {},
   "outputs": [
    {
     "name": "stdout",
     "output_type": "stream",
     "text": [
      "enter a number: 100000\n",
      "32\n"
     ]
    }
   ],
   "source": [
    "binary =input('enter a number: ')\n",
    "decimal = 0\n",
    "for digit in binary:\n",
    "    decimal = decimal*2 + int(digit)\n",
    "print (decimal)"
   ]
  },
  {
   "cell_type": "markdown",
   "metadata": {},
   "source": [
    "# 18.\tVowel and Consonants Counter"
   ]
  },
  {
   "cell_type": "code",
   "execution_count": 23,
   "metadata": {},
   "outputs": [
    {
     "name": "stdout",
     "output_type": "stream",
     "text": [
      "Enter any String: 5\n",
      "Vowels in the String: 0\n",
      "Consonant in the String:  1\n"
     ]
    }
   ],
   "source": [
    "vowel = 0\n",
    "consonant = 0\n",
    "letter =input (\"Enter any String: \")\n",
    "for x in letter:\n",
    "    if x == 'a' or x == 'A'or x == 'e' or x == 'E'or x == 'i'or x == 'I'or x == 'o'or x == 'O'or x == 'u'or x == 'U':\n",
    "        vowel +=1\n",
    "    else:\n",
    "        consonant +=1\n",
    "print(\"Vowels in the String:\",vowel)\n",
    "print(\"Consonant in the String: \",consonant)\n"
   ]
  },
  {
   "cell_type": "markdown",
   "metadata": {},
   "source": [
    "# 19.\tPalindrome tester"
   ]
  },
  {
   "cell_type": "code",
   "execution_count": 4,
   "metadata": {},
   "outputs": [
    {
     "name": "stdout",
     "output_type": "stream",
     "text": [
      "Enter Number: 121\n",
      "The Number is Palindrome: \n"
     ]
    }
   ],
   "source": [
    "n = int(input(\"Enter Number: \"))\n",
    "temp = n\n",
    "rev = 0\n",
    "while n > 0:\n",
    "    dig = n % 10\n",
    "    rev = rev * 10 + dig\n",
    "    n = n// 10\n",
    "if temp == rev:\n",
    "    print(\"The Number is Palindrome: \")\n",
    "else:\n",
    "    print(\"The Number isn't Palindrome: \")\n"
   ]
  },
  {
   "cell_type": "markdown",
   "metadata": {},
   "source": [
    "# 20.\tCount Alphabets, Numbers and Special Characters"
   ]
  },
  {
   "cell_type": "code",
   "execution_count": 11,
   "metadata": {},
   "outputs": [
    {
     "name": "stdout",
     "output_type": "stream",
     "text": [
      "Enter any String: python 3.2\n",
      "Alphabet in the String: 6\n",
      "Digit in the String:  2\n",
      "Special  in the String:  1\n",
      "Spaces  in the String:  1\n"
     ]
    }
   ],
   "source": [
    "alpha = 0\n",
    "digit = 0\n",
    "special = 0\n",
    "spaces = 0\n",
    "letter =input (\"Enter any String: \")\n",
    "for x in letter:\n",
    "    if x.isalpha():\n",
    "        alpha +=1\n",
    "    elif x.isdigit():\n",
    "        digit +=1\n",
    "    elif x.isspace():\n",
    "        spaces +=1\n",
    "    else:\n",
    "        special +=1\n",
    "print(\"Alphabet in the String:\",alpha)\n",
    "print(\"Digit in the String: \",digit)\n",
    "print(\"Special  in the String: \",special)\n",
    "print(\"Spaces  in the String: \",spaces)\n"
   ]
  },
  {
   "cell_type": "markdown",
   "metadata": {},
   "source": [
    "# 21.\tWrite a Python program to construct the following pattern"
   ]
  },
  {
   "cell_type": "code",
   "execution_count": 9,
   "metadata": {},
   "outputs": [
    {
     "name": "stdout",
     "output_type": "stream",
     "text": [
      "\n",
      "*\n",
      "**\n",
      "***\n",
      "****\n",
      "*****\n",
      "****\n",
      "***\n",
      "**\n",
      "*\n"
     ]
    }
   ],
   "source": [
    "i = 0\n",
    "j = 4\n",
    "while i < 6:\n",
    "    for x in range (0,i):\n",
    "        print(\"*\",end=\"\")\n",
    "    print()\n",
    "    if i > 6:\n",
    "        break\n",
    "    else:\n",
    "        i +=1\n",
    "while j > 0:\n",
    "    for x in range(0,j):\n",
    "        print(\"*\",end=\"\")\n",
    "    print()\n",
    "    j -=1"
   ]
  },
  {
   "cell_type": "markdown",
   "metadata": {},
   "source": [
    "# 22.\tWrite a Python program to construct the following pattern"
   ]
  },
  {
   "cell_type": "code",
   "execution_count": 10,
   "metadata": {},
   "outputs": [
    {
     "name": "stdout",
     "output_type": "stream",
     "text": [
      "\n",
      "1\n",
      "12\n",
      "123\n",
      "1234\n",
      "12345\n",
      "1234\n",
      "123\n",
      "12\n",
      "1\n"
     ]
    }
   ],
   "source": [
    "i = 0\n",
    "j = 4\n",
    "while i < 6:\n",
    "    for x in range (0,i):\n",
    "        print(x+1,end=\"\")\n",
    "    print()\n",
    "    if i > 6:\n",
    "        break\n",
    "    else:\n",
    "        i +=1\n",
    "while j > 0:\n",
    "    for x in range(0,j):\n",
    "        print(x+1,end=\"\")\n",
    "    print()\n",
    "    j -=1"
   ]
  },
  {
   "cell_type": "markdown",
   "metadata": {},
   "source": [
    "# 23.\tWrite a Python program to construct the following pattern"
   ]
  },
  {
   "cell_type": "code",
   "execution_count": 13,
   "metadata": {},
   "outputs": [
    {
     "name": "stdout",
     "output_type": "stream",
     "text": [
      "\n",
      "1\n",
      "22\n",
      "333\n",
      "4444\n",
      "55555\n",
      "666666\n",
      "7777777\n",
      "88888888\n",
      "999999999\n"
     ]
    }
   ],
   "source": [
    "i = 0\n",
    "while i < 10:\n",
    "    for x in range (0,i):\n",
    "        print(i,end=\"\")\n",
    "    print()\n",
    "    i +=1"
   ]
  },
  {
   "cell_type": "code",
   "execution_count": null,
   "metadata": {},
   "outputs": [],
   "source": []
  }
 ],
 "metadata": {
  "kernelspec": {
   "display_name": "Python 3",
   "language": "python",
   "name": "python3"
  },
  "language_info": {
   "codemirror_mode": {
    "name": "ipython",
    "version": 3
   },
   "file_extension": ".py",
   "mimetype": "text/x-python",
   "name": "python",
   "nbconvert_exporter": "python",
   "pygments_lexer": "ipython3",
   "version": "3.7.3"
  }
 },
 "nbformat": 4,
 "nbformat_minor": 2
}
